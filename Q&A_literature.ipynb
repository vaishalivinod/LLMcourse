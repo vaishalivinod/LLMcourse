{
 "cells": [
  {
   "cell_type": "markdown",
   "metadata": {},
   "source": [
    "# Question and Answers from Literature\n",
    "This notebook contains the code to answer questions from a given research literature\n",
    "\n",
    "## Load environment\n"
   ]
  },
  {
   "cell_type": "code",
   "execution_count": 1,
   "metadata": {},
   "outputs": [
    {
     "name": "stderr",
     "output_type": "stream",
     "text": [
      "c:\\Users\\Vaishali\\AppData\\Local\\Packages\\PythonSoftwareFoundation.Python.3.11_qbz5n2kfra8p0\\LocalCache\\Local\\pypoetry\\Cache\\virtualenvs\\llmcourse-ezk3zIkx-py3.11\\Lib\\site-packages\\tqdm\\auto.py:21: TqdmWarning: IProgress not found. Please update jupyter and ipywidgets. See https://ipywidgets.readthedocs.io/en/stable/user_install.html\n",
      "  from .autonotebook import tqdm as notebook_tqdm\n",
      "Device set to use cpu\n"
     ]
    },
    {
     "data": {
      "text/plain": [
       "{'score': 0.8841070532798767, 'start': 225, 'end': 228, 'answer': '256'}"
      ]
     },
     "execution_count": 1,
     "metadata": {},
     "output_type": "execute_result"
    }
   ],
   "source": [
    "from dotenv import load_dotenv\n",
    "import os\n",
    "from transformers import pipeline\n",
    "\n",
    "# Load env variables\n",
    "load_dotenv()\n",
    "hf_key = os.getenv(\"HF_API\")\n",
    "\n",
    "from transformers import pipeline\n",
    "\n",
    "model_name = \"trevorkwan/biomed_bert_squadv2\"\n",
    "\n",
    "nlp = pipeline(\"question-answering\", model=model_name, tokenizer=model_name)\n",
    "\n",
    "question = \"How many EEG channels were used?\"\n",
    "\n",
    "nlp(question=question, context= \"Participants returned to the testing facility two additional times to perform the Loaded and Unloaded physical conditions on separate days, with the order of days counterbalanced across participants. During those sessions, a 256 channel EEG system (Biosemi, Amsterdam, Netherlands) was applied to the participant’s head with 8 external electrodes applied to the neck. Each EEG electrode position was digitized using the Zebris ELPOS system (Zebris Medical GmbH, Denmark) to improve source localization accuracy.\")"
   ]
  }
 ],
 "metadata": {
  "kernelspec": {
   "display_name": "llmcourse-ezk3zIkx-py3.11",
   "language": "python",
   "name": "python3"
  },
  "language_info": {
   "codemirror_mode": {
    "name": "ipython",
    "version": 3
   },
   "file_extension": ".py",
   "mimetype": "text/x-python",
   "name": "python",
   "nbconvert_exporter": "python",
   "pygments_lexer": "ipython3",
   "version": "3.11.9"
  }
 },
 "nbformat": 4,
 "nbformat_minor": 2
}
